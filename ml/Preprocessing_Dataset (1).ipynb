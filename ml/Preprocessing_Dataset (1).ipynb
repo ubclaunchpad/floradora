{
  "cells": [
    {
      "cell_type": "code",
      "execution_count": null,
      "metadata": {
        "id": "teMUZ7PGGhlC"
      },
      "outputs": [],
      "source": [
        "!pip install kaggle"
      ]
    },
    {
      "cell_type": "code",
      "execution_count": null,
      "metadata": {
        "id": "rwg9PDIbGyia"
      },
      "outputs": [],
      "source": [
        "from google.colab import files\n",
        "\n",
        "uploaded = files.upload()\n",
        "\n",
        "for fn in uploaded.keys():\n",
        "  print('User uploaded file \"{name}\" with length {length} bytes'.format(\n",
        "      name=fn, length=len(uploaded[fn])))\n",
        "  \n",
        "# Then move kaggle.json into the folder where the API expects to find it.\n",
        "!mkdir -p ~/.kaggle/ && mv kaggle.json ~/.kaggle/ && chmod 600 ~/.kaggle/kaggle.json"
      ]
    },
    {
      "cell_type": "code",
      "execution_count": null,
      "metadata": {
        "id": "VH1h1FSMHBVi"
      },
      "outputs": [],
      "source": [
        "!kaggle datasets download alxmamaev/flowers-recognition"
      ]
    },
    {
      "cell_type": "code",
      "source": [
        "!unzip flowers-recognition.zip"
      ],
      "metadata": {
        "id": "ZDdsiqhbBoy0"
      },
      "execution_count": null,
      "outputs": []
    },
    {
      "cell_type": "code",
      "source": [
        "import tensorflow as tf\n",
        "from tensorflow import keras\n",
        "from tensorflow.keras.preprocessing.image import ImageDataGenerator\n",
        "import matplotlib.pyplot as plt\n",
        "from tensorflow.keras.models import Sequential\n",
        "from tensorflow.keras.layers import Conv2D,MaxPool2D,Flatten,Dense, Dropout\n",
        "from tensorflow.keras.callbacks import EarlyStopping\n",
        "import pandas as pd\n",
        "import numpy as np\n",
        "from IPython.display import Image, display\n",
        "from tqdm import tqdm\n",
        "import cv2\n",
        "import random as rn\n",
        "from sklearn.preprocessing import LabelEncoder\n",
        "from keras.utils import to_categorical\n",
        "from sklearn.model_selection import train_test_split\n",
        "from sklearn.metrics import confusion_matrix, classification_report"
      ],
      "metadata": {
        "id": "Z2KJegHlPm31"
      },
      "execution_count": null,
      "outputs": []
    },
    {
      "cell_type": "code",
      "source": [
        "listOfImageNames = ['/content/flowers/daisy/100080576_f52e8ee070_n.jpg',\n",
        "                    '/content/flowers/dandelion/10043234166_e6dd915111_n.jpg',\n",
        "                    '/content/flowers/rose/10503217854_e66a804309.jpg',\n",
        "                    '/content/flowers/sunflower/1008566138_6927679c8a.jpg',\n",
        "                    '/content/flowers/tulip/100930342_92e8746431_n.jpg']\n",
        "labels = ['daisy','dandelion','rose','sunflower','tulip']\n",
        "for i,imageName in enumerate(listOfImageNames):\n",
        "    print(labels[i])\n",
        "    display(Image(filename=imageName))\n",
        "    print(\"\\n\")"
      ],
      "metadata": {
        "id": "LS4Syaz5Ljvn"
      },
      "execution_count": null,
      "outputs": []
    },
    {
      "cell_type": "code",
      "source": [
        "datagen = ImageDataGenerator(\n",
        "    rescale = 1./255,\n",
        "    shear_range=0.2,\n",
        "    horizontal_flip=True,\n",
        "    zoom_range=0.2,\n",
        "    rotation_range = 40,\n",
        "    width_shift_range= 0.2,\n",
        "    height_shift_range= 0.2,\n",
        "    validation_split=0.2\n",
        ")"
      ],
      "metadata": {
        "id": "kMOljYtOMJ1q"
      },
      "execution_count": null,
      "outputs": []
    },
    {
      "cell_type": "code",
      "source": [
        "train_data =  datagen.flow_from_directory(\n",
        "        \"/content/flowers\",\n",
        "        target_size=(150,150),\n",
        "        batch_size=32,\n",
        "        subset = 'training',\n",
        "        class_mode='categorical')\n",
        "\n",
        "test_data =  datagen.flow_from_directory(\n",
        "        \"/content/flowers\",\n",
        "        target_size=(150,150),\n",
        "        batch_size=32,\n",
        "        subset = 'validation',\n",
        "        class_mode='categorical')"
      ],
      "metadata": {
        "id": "2sJIoc5oMRcm"
      },
      "execution_count": null,
      "outputs": []
    },
    {
      "cell_type": "code",
      "source": [
        "train_labels = []\n",
        "traindata = []\n",
        "for i in range(0,109):\n",
        "    train_labels.extend(np.array(train_data[i][1]))\n",
        "    traindata.extend(np.array(train_data[i][0]))\n",
        "    \n",
        "test_labels=[]\n",
        "testdata = []\n",
        "for i in range(0,27):\n",
        "    test_labels.extend(np.array(test_data[i][1]))\n",
        "    testdata.extend(np.array(test_data[i][0]))"
      ],
      "metadata": {
        "id": "8KZeAJ1bOmzp"
      },
      "execution_count": null,
      "outputs": []
    },
    {
      "cell_type": "code",
      "source": [
        "lbls = []\n",
        "for i in train_labels:\n",
        "    if all(i == [0.,0.,0.,0.,1.]):\n",
        "        lbls.append('tulip')\n",
        "    elif all(i == [0.,0.,0.,1.,0.]):\n",
        "        lbls.append('sunflower')\n",
        "    elif all(i == [0.,0.,1.,0.,0.]):\n",
        "        lbls.append('rose')\n",
        "    elif all(i == [0.,1.,0.,0.,0.]):\n",
        "        lbls.append('dendelion')\n",
        "    elif all(i == [1.,0.,0.,0.,0.]):\n",
        "        lbls.append('daisy')"
      ],
      "metadata": {
        "id": "tzXJMEDvOoT9"
      },
      "execution_count": null,
      "outputs": []
    },
    {
      "cell_type": "code",
      "source": [
        "fig,ax=plt.subplots(5,3)\n",
        "fig.set_size_inches(15,15)\n",
        "for i in range(5):\n",
        "    for j in range (3):\n",
        "        l=rn.randint(0,len(train_labels))\n",
        "        ax[i,j].imshow(traindata[l])\n",
        "        ax[i,j].set_title('Flower: '+lbls[l])\n",
        "        \n",
        "plt.tight_layout()"
      ],
      "metadata": {
        "id": "o8gl2vg-OuVH"
      },
      "execution_count": null,
      "outputs": []
    },
    {
      "cell_type": "code",
      "source": [
        "traindata = np.array(traindata)\n",
        "testdata = np.array(testdata)\n",
        "train_labels = np.array(train_labels)\n",
        "test_labels = np.array(test_labels)"
      ],
      "metadata": {
        "id": "mWKOz5v_PRyG"
      },
      "execution_count": null,
      "outputs": []
    },
    {
      "cell_type": "code",
      "source": [
        "traindata.shape\n"
      ],
      "metadata": {
        "id": "36RsxamdPVKS"
      },
      "execution_count": null,
      "outputs": []
    },
    {
      "cell_type": "code",
      "source": [
        "model = Sequential()\n"
      ],
      "metadata": {
        "id": "qnGDDpKKRC6W"
      },
      "execution_count": null,
      "outputs": []
    },
    {
      "cell_type": "code",
      "source": [
        "model.add(Conv2D(filters=32,activation='relu',kernel_size=3,input_shape=[150,150,3]))\n",
        "model.add(MaxPool2D(pool_size=2,padding='same'))\n",
        "model.add(Conv2D(filters=64,activation='relu',kernel_size=3))\n",
        "model.add(MaxPool2D(pool_size=2,padding='same'))\n",
        "model.add(Conv2D(filters=96,activation='relu',kernel_size=3))\n",
        "model.add(MaxPool2D(pool_size=2,padding='same'))\n",
        "model.add(Conv2D(filters=96,activation='relu',kernel_size=3))\n",
        "model.add(MaxPool2D(pool_size=2,padding='same'))\n",
        "model.add(Flatten())\n",
        "\n",
        "model.add(Dense(512,activation='relu'))\n",
        "\n",
        "model.add(Dense(5,activation='softmax'))\n",
        "\n",
        "model.summary()"
      ],
      "metadata": {
        "id": "9UHYDGVsRFJu"
      },
      "execution_count": null,
      "outputs": []
    },
    {
      "cell_type": "code",
      "source": [
        "es = EarlyStopping(monitor='val_loss',patience=3,mode='min')\n"
      ],
      "metadata": {
        "id": "hdKqJFSjRZW8"
      },
      "execution_count": null,
      "outputs": []
    },
    {
      "cell_type": "code",
      "source": [
        "model.compile(optimizer='adam',loss='categorical_crossentropy',metrics=['accuracy'])\n"
      ],
      "metadata": {
        "id": "GoWH1HN3RIAi"
      },
      "execution_count": null,
      "outputs": []
    },
    {
      "cell_type": "code",
      "source": [
        "model.fit(traindata,train_labels,verbose=1,validation_data=(testdata,test_labels),batch_size=128,epochs=5,callbacks=[es])\n"
      ],
      "metadata": {
        "id": "UL9mhdDKRaYD"
      },
      "execution_count": null,
      "outputs": []
    },
    {
      "cell_type": "code",
      "source": [
        "losses = model.history.history\n"
      ],
      "metadata": {
        "id": "amm8lxrORxEZ"
      },
      "execution_count": null,
      "outputs": []
    },
    {
      "cell_type": "code",
      "source": [
        "testdata.shape"
      ],
      "metadata": {
        "id": "Rvm3yebweD6r"
      },
      "execution_count": null,
      "outputs": []
    },
    {
      "cell_type": "code",
      "source": [
        "pred=model.predict(testdata)\n",
        "pred_digits=np.argmax(pred,axis=1)"
      ],
      "metadata": {
        "id": "HV2szy7oebyQ"
      },
      "execution_count": null,
      "outputs": []
    },
    {
      "cell_type": "code",
      "source": [
        "pred_digits"
      ],
      "metadata": {
        "id": "w7t1vbORekBn"
      },
      "execution_count": null,
      "outputs": []
    },
    {
      "cell_type": "code",
      "source": [
        "print('The predicted class is:', pred_digits[0])\n"
      ],
      "metadata": {
        "id": "v8qPAl6WeOay"
      },
      "execution_count": null,
      "outputs": []
    },
    {
      "cell_type": "code",
      "source": [
        "img_height = 150\n",
        "img_width = 150\n",
        "# sunflower_url = \"/content/flowers/tulip_test.jpg\"\n",
        "# sunflower_path = tf.keras.utils.get_file('Red_sunflower', origin=sunflower_url)\n",
        "\n",
        "img_path = \"/content/flowers/dandelion.jpg\" # Replace with the path to your image file\n",
        "img = tf.keras.utils.load_img(\n",
        "    img_path, target_size=(img_height, img_width)\n",
        ")\n",
        "\n",
        "img_array = tf.keras.utils.img_to_array(img)\n",
        "img_array = tf.expand_dims(img_array, 0) # Create a batch\n",
        "\n",
        "predictions = model.predict(img_array)\n",
        "score = tf.nn.softmax(predictions[0])\n",
        "\n",
        "print(\n",
        "    \"This image most likely belongs to {} with a {:.2f} percent confidence.\"\n",
        "    .format(labels[np.argmax(score)], 100 * np.max(score))\n",
        ")"
      ],
      "metadata": {
        "id": "wHJzWsg3gvMV"
      },
      "execution_count": null,
      "outputs": []
    },
    {
      "cell_type": "code",
      "source": [],
      "metadata": {
        "id": "s22WJQyefhOz"
      },
      "execution_count": null,
      "outputs": []
    }
  ],
  "metadata": {
    "colab": {
      "provenance": []
    },
    "kernelspec": {
      "display_name": "Python 3",
      "name": "python3"
    },
    "language_info": {
      "name": "python"
    }
  },
  "nbformat": 4,
  "nbformat_minor": 0
}